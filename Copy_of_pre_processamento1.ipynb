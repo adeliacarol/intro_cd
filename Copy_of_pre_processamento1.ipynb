{
  "nbformat": 4,
  "nbformat_minor": 0,
  "metadata": {
    "colab": {
      "name": "Copy of pre_processamento1.ipynb",
      "provenance": [],
      "collapsed_sections": [
        "w6cnmgVq4gDi",
        "6V4tDIKz4tOg",
        "w6TtysO543sh",
        "4NkmolL950rQ",
        "GPs2eB8p6b0v",
        "Q2EY_VYu7xUx",
        "DNyrJJ8k4EFK"
      ]
    },
    "kernelspec": {
      "display_name": "Python 3",
      "language": "python",
      "name": "python3"
    },
    "language_info": {
      "codemirror_mode": {
        "name": "ipython",
        "version": 3
      },
      "file_extension": ".py",
      "mimetype": "text/x-python",
      "name": "python",
      "nbconvert_exporter": "python",
      "pygments_lexer": "ipython3",
      "version": "3.7.1"
    }
  },
  "cells": [
    {
      "cell_type": "code",
      "metadata": {
        "colab_type": "code",
        "id": "PtMZXsv_-rZR",
        "outputId": "f41cfd49-aaf3-42d4-dd53-2f32e79ceb75",
        "colab": {
          "base_uri": "https://localhost:8080/",
          "height": 394
        }
      },
      "source": [
        "import numpy as np\n",
        "import pandas as pd\n",
        "houses=pd.read_csv(\"http://cin.ufpe.br/~jms5/countries-of-the-world/countries-of-the-world.csv\",encoding = \"ISO-8859-1\", decimal=\",\")\n",
        "houses.head()"
      ],
      "execution_count": 0,
      "outputs": [
        {
          "output_type": "execute_result",
          "data": {
            "text/html": [
              "<div>\n",
              "<style scoped>\n",
              "    .dataframe tbody tr th:only-of-type {\n",
              "        vertical-align: middle;\n",
              "    }\n",
              "\n",
              "    .dataframe tbody tr th {\n",
              "        vertical-align: top;\n",
              "    }\n",
              "\n",
              "    .dataframe thead th {\n",
              "        text-align: right;\n",
              "    }\n",
              "</style>\n",
              "<table border=\"1\" class=\"dataframe\">\n",
              "  <thead>\n",
              "    <tr style=\"text-align: right;\">\n",
              "      <th></th>\n",
              "      <th>Country</th>\n",
              "      <th>Region</th>\n",
              "      <th>Population</th>\n",
              "      <th>Area (sq. mi.)</th>\n",
              "      <th>Pop. Density (per sq. mi.)</th>\n",
              "      <th>Coastline (coast/area ratio)</th>\n",
              "      <th>Net migration</th>\n",
              "      <th>Infant mortality (per 1000 births)</th>\n",
              "      <th>GDP ($ per capita)</th>\n",
              "      <th>Literacy (%)</th>\n",
              "      <th>Phones (per 1000)</th>\n",
              "      <th>Arable (%)</th>\n",
              "      <th>Crops (%)</th>\n",
              "      <th>Other (%)</th>\n",
              "      <th>Climate</th>\n",
              "      <th>Birthrate</th>\n",
              "      <th>Deathrate</th>\n",
              "      <th>Agriculture</th>\n",
              "      <th>Industry</th>\n",
              "      <th>Service</th>\n",
              "    </tr>\n",
              "  </thead>\n",
              "  <tbody>\n",
              "    <tr>\n",
              "      <th>0</th>\n",
              "      <td>Afghanistan</td>\n",
              "      <td>ASIA (EX. NEAR EAST)</td>\n",
              "      <td>31056997</td>\n",
              "      <td>647500</td>\n",
              "      <td>48.0</td>\n",
              "      <td>0.00</td>\n",
              "      <td>23.06</td>\n",
              "      <td>163.07</td>\n",
              "      <td>700.0</td>\n",
              "      <td>36.0</td>\n",
              "      <td>3.2</td>\n",
              "      <td>12.13</td>\n",
              "      <td>0.22</td>\n",
              "      <td>87.65</td>\n",
              "      <td>1.0</td>\n",
              "      <td>46.60</td>\n",
              "      <td>20.34</td>\n",
              "      <td>0.380</td>\n",
              "      <td>0.240</td>\n",
              "      <td>0.380</td>\n",
              "    </tr>\n",
              "    <tr>\n",
              "      <th>1</th>\n",
              "      <td>Albania</td>\n",
              "      <td>EASTERN EUROPE</td>\n",
              "      <td>3581655</td>\n",
              "      <td>28748</td>\n",
              "      <td>124.6</td>\n",
              "      <td>1.26</td>\n",
              "      <td>-4.93</td>\n",
              "      <td>21.52</td>\n",
              "      <td>4500.0</td>\n",
              "      <td>86.5</td>\n",
              "      <td>71.2</td>\n",
              "      <td>21.09</td>\n",
              "      <td>4.42</td>\n",
              "      <td>74.49</td>\n",
              "      <td>3.0</td>\n",
              "      <td>15.11</td>\n",
              "      <td>5.22</td>\n",
              "      <td>0.232</td>\n",
              "      <td>0.188</td>\n",
              "      <td>0.579</td>\n",
              "    </tr>\n",
              "    <tr>\n",
              "      <th>2</th>\n",
              "      <td>Algeria</td>\n",
              "      <td>NORTHERN AFRICA</td>\n",
              "      <td>32930091</td>\n",
              "      <td>2381740</td>\n",
              "      <td>13.8</td>\n",
              "      <td>0.04</td>\n",
              "      <td>-0.39</td>\n",
              "      <td>31.00</td>\n",
              "      <td>6000.0</td>\n",
              "      <td>70.0</td>\n",
              "      <td>78.1</td>\n",
              "      <td>3.22</td>\n",
              "      <td>0.25</td>\n",
              "      <td>96.53</td>\n",
              "      <td>1.0</td>\n",
              "      <td>17.14</td>\n",
              "      <td>4.61</td>\n",
              "      <td>0.101</td>\n",
              "      <td>0.600</td>\n",
              "      <td>0.298</td>\n",
              "    </tr>\n",
              "    <tr>\n",
              "      <th>3</th>\n",
              "      <td>American Samoa</td>\n",
              "      <td>OCEANIA</td>\n",
              "      <td>57794</td>\n",
              "      <td>199</td>\n",
              "      <td>290.4</td>\n",
              "      <td>58.29</td>\n",
              "      <td>-20.71</td>\n",
              "      <td>9.27</td>\n",
              "      <td>8000.0</td>\n",
              "      <td>97.0</td>\n",
              "      <td>259.5</td>\n",
              "      <td>10.00</td>\n",
              "      <td>15.00</td>\n",
              "      <td>75.00</td>\n",
              "      <td>2.0</td>\n",
              "      <td>22.46</td>\n",
              "      <td>3.27</td>\n",
              "      <td>NaN</td>\n",
              "      <td>NaN</td>\n",
              "      <td>NaN</td>\n",
              "    </tr>\n",
              "    <tr>\n",
              "      <th>4</th>\n",
              "      <td>Andorra</td>\n",
              "      <td>WESTERN EUROPE</td>\n",
              "      <td>71201</td>\n",
              "      <td>468</td>\n",
              "      <td>152.1</td>\n",
              "      <td>0.00</td>\n",
              "      <td>6.60</td>\n",
              "      <td>4.05</td>\n",
              "      <td>19000.0</td>\n",
              "      <td>100.0</td>\n",
              "      <td>497.2</td>\n",
              "      <td>2.22</td>\n",
              "      <td>0.00</td>\n",
              "      <td>97.78</td>\n",
              "      <td>3.0</td>\n",
              "      <td>8.71</td>\n",
              "      <td>6.25</td>\n",
              "      <td>NaN</td>\n",
              "      <td>NaN</td>\n",
              "      <td>NaN</td>\n",
              "    </tr>\n",
              "  </tbody>\n",
              "</table>\n",
              "</div>"
            ],
            "text/plain": [
              "           Country                               Region  ...  Industry  Service\n",
              "0     Afghanistan         ASIA (EX. NEAR EAST)           ...     0.240    0.380\n",
              "1         Albania   EASTERN EUROPE                       ...     0.188    0.579\n",
              "2         Algeria   NORTHERN AFRICA                      ...     0.600    0.298\n",
              "3  American Samoa   OCEANIA                              ...       NaN      NaN\n",
              "4         Andorra   WESTERN EUROPE                       ...       NaN      NaN\n",
              "\n",
              "[5 rows x 20 columns]"
            ]
          },
          "metadata": {
            "tags": []
          },
          "execution_count": 2
        }
      ]
    },
    {
      "cell_type": "code",
      "metadata": {
        "id": "oR7AdDFWs3V7",
        "colab_type": "code",
        "colab": {}
      },
      "source": [
        ""
      ],
      "execution_count": 0,
      "outputs": []
    },
    {
      "cell_type": "markdown",
      "metadata": {
        "colab_type": "text",
        "id": "w6cnmgVq4gDi"
      },
      "source": [
        "## Setando campos como categóricos"
      ]
    },
    {
      "cell_type": "code",
      "metadata": {
        "colab_type": "code",
        "id": "O-O6BFuKmlPN",
        "outputId": "f93fa617-e1b0-4ee6-cb08-39b983df3363",
        "colab": {
          "base_uri": "https://localhost:8080/",
          "height": 374
        }
      },
      "source": [
        "houses.dtypes"
      ],
      "execution_count": 0,
      "outputs": [
        {
          "output_type": "execute_result",
          "data": {
            "text/plain": [
              "Country                                object\n",
              "Region                                 object\n",
              "Population                              int64\n",
              "Area (sq. mi.)                          int64\n",
              "Pop. Density (per sq. mi.)            float64\n",
              "Coastline (coast/area ratio)          float64\n",
              "Net migration                         float64\n",
              "Infant mortality (per 1000 births)    float64\n",
              "GDP ($ per capita)                    float64\n",
              "Literacy (%)                          float64\n",
              "Phones (per 1000)                     float64\n",
              "Arable (%)                            float64\n",
              "Crops (%)                             float64\n",
              "Other (%)                             float64\n",
              "Climate                               float64\n",
              "Birthrate                             float64\n",
              "Deathrate                             float64\n",
              "Agriculture                           float64\n",
              "Industry                              float64\n",
              "Service                               float64\n",
              "dtype: object"
            ]
          },
          "metadata": {
            "tags": []
          },
          "execution_count": 3
        }
      ]
    },
    {
      "cell_type": "code",
      "metadata": {
        "colab_type": "code",
        "id": "J9n5LrpKm83d",
        "colab": {}
      },
      "source": [
        "#ajustando tipos dos dados\n",
        "houses['suburb'] = houses['suburb'].astype('category')\n",
        "houses['district'] = houses['district'].astype('category')\n",
        "houses['city'] = houses['city'].astype('category')\n",
        "houses['state'] = houses['state'].astype('category')\n",
        "houses['type'] = houses['type'].astype('category')"
      ],
      "execution_count": 0,
      "outputs": []
    },
    {
      "cell_type": "code",
      "metadata": {
        "colab_type": "code",
        "id": "HRSFBmGUnMz8",
        "outputId": "ecf75834-c349-42ae-e511-c1eb604a4716",
        "colab": {
          "base_uri": "https://localhost:8080/",
          "height": 255
        }
      },
      "source": [
        "houses.dtypes"
      ],
      "execution_count": 0,
      "outputs": [
        {
          "output_type": "execute_result",
          "data": {
            "text/plain": [
              "price           int64\n",
              "latitude      float64\n",
              "longitude     float64\n",
              "bedrooms      float64\n",
              "area          float64\n",
              "pkspaces      float64\n",
              "bathrooms     float64\n",
              "ensuites      float64\n",
              "suburb       category\n",
              "district     category\n",
              "city         category\n",
              "state        category\n",
              "type         category\n",
              "dtype: object"
            ]
          },
          "metadata": {
            "tags": []
          },
          "execution_count": 13
        }
      ]
    },
    {
      "cell_type": "code",
      "metadata": {
        "colab_type": "code",
        "id": "CyVt9fo9o814",
        "outputId": "1a03cae5-caf3-4852-f5bf-fb354687453b",
        "colab": {
          "base_uri": "https://localhost:8080/",
          "height": 238
        }
      },
      "source": [
        "houses['suburb'].cat.categories"
      ],
      "execution_count": 0,
      "outputs": [
        {
          "output_type": "execute_result",
          "data": {
            "text/plain": [
              "Index(['Aflitos', 'Apipucos', 'Areias', 'Arruda', 'Boa Viagem', 'Boa Vista',\n",
              "       'Campo Grande', 'Casa Amarela', 'Casa Forte', 'CaxangÌÁ',\n",
              "       'Cidade UniversitÌÁria', 'Coelhos', 'Cohab', 'Cordeiro', 'Curado',\n",
              "       'Derby', 'Dois IrmÌ£os', 'Encruzilhada', 'Engenho do Meio',\n",
              "       'Espinheiro', 'EstÌ¢ncia', 'FundÌ£o', 'GraÌ¤as', 'HipÌ_dromo', 'Ibura',\n",
              "       'Ilha do Retiro', 'Imbiribeira', 'Ipsep', 'Iputinga', 'Jaqueira',\n",
              "       'Jardim SÌ£o Paulo', 'Madalena', 'Mangabeira', 'Monteiro',\n",
              "       'Mustardinha', 'Paissandu', 'Parnamirim', 'Pau-Ferro', 'Pina',\n",
              "       'Ponto de Parada', 'Porto da Madeira', 'PoÌ¤o', 'Prado', 'Rosarinho',\n",
              "       'San Martin', 'Santana', 'Santo Amaro', 'Santo AntÌ«nio', 'Soledade',\n",
              "       'SÌ£o JosÌ©', 'Tamarineira', 'TejipiÌ_', 'Torre', 'TorreÌ£o',\n",
              "       'TorrÌµes', 'Vasco da Gama', 'VÌÁrzea', 'Zumbi'],\n",
              "      dtype='object')"
            ]
          },
          "metadata": {
            "tags": []
          },
          "execution_count": 5
        }
      ]
    },
    {
      "cell_type": "code",
      "metadata": {
        "colab_type": "code",
        "id": "erilEInu9-DO",
        "outputId": "1c97c5a9-ec27-408a-ec2d-2d29f41185c5",
        "colab": {
          "base_uri": "https://localhost:8080/",
          "height": 34
        }
      },
      "source": [
        "houses['type'].cat.categories "
      ],
      "execution_count": 0,
      "outputs": [
        {
          "output_type": "execute_result",
          "data": {
            "text/plain": [
              "Index(['apart', 'house'], dtype='object')"
            ]
          },
          "metadata": {
            "tags": []
          },
          "execution_count": 14
        }
      ]
    },
    {
      "cell_type": "code",
      "metadata": {
        "colab_type": "code",
        "id": "19DvDQHlCazf",
        "colab": {}
      },
      "source": [
        "houses['type'] = houses['type'].cat.codes"
      ],
      "execution_count": 0,
      "outputs": []
    },
    {
      "cell_type": "code",
      "metadata": {
        "colab_type": "code",
        "id": "dbbuKsg_-M4e",
        "outputId": "0d1c69c4-8037-40c1-8b1c-f0eaa5c45d1e",
        "colab": {
          "base_uri": "https://localhost:8080/",
          "height": 204
        }
      },
      "source": [
        "houses.head()"
      ],
      "execution_count": 0,
      "outputs": [
        {
          "output_type": "execute_result",
          "data": {
            "text/html": [
              "<div>\n",
              "<style scoped>\n",
              "    .dataframe tbody tr th:only-of-type {\n",
              "        vertical-align: middle;\n",
              "    }\n",
              "\n",
              "    .dataframe tbody tr th {\n",
              "        vertical-align: top;\n",
              "    }\n",
              "\n",
              "    .dataframe thead th {\n",
              "        text-align: right;\n",
              "    }\n",
              "</style>\n",
              "<table border=\"1\" class=\"dataframe\">\n",
              "  <thead>\n",
              "    <tr style=\"text-align: right;\">\n",
              "      <th></th>\n",
              "      <th>price</th>\n",
              "      <th>latitude</th>\n",
              "      <th>longitude</th>\n",
              "      <th>bedrooms</th>\n",
              "      <th>area</th>\n",
              "      <th>pkspaces</th>\n",
              "      <th>bathrooms</th>\n",
              "      <th>ensuites</th>\n",
              "      <th>suburb</th>\n",
              "      <th>district</th>\n",
              "      <th>city</th>\n",
              "      <th>state</th>\n",
              "      <th>type</th>\n",
              "    </tr>\n",
              "  </thead>\n",
              "  <tbody>\n",
              "    <tr>\n",
              "      <th>0</th>\n",
              "      <td>1500</td>\n",
              "      <td>-8.059791</td>\n",
              "      <td>-34.889619</td>\n",
              "      <td>4.0</td>\n",
              "      <td>37.0</td>\n",
              "      <td>3.0</td>\n",
              "      <td>3.0</td>\n",
              "      <td>NaN</td>\n",
              "      <td>Boa Vista</td>\n",
              "      <td>Recife</td>\n",
              "      <td>Recife</td>\n",
              "      <td>Pernambuco</td>\n",
              "      <td>0</td>\n",
              "    </tr>\n",
              "    <tr>\n",
              "      <th>1</th>\n",
              "      <td>330000</td>\n",
              "      <td>-8.029595</td>\n",
              "      <td>-34.900372</td>\n",
              "      <td>3.0</td>\n",
              "      <td>86.0</td>\n",
              "      <td>1.0</td>\n",
              "      <td>3.0</td>\n",
              "      <td>1.0</td>\n",
              "      <td>Tamarineira</td>\n",
              "      <td>Recife</td>\n",
              "      <td>Recife</td>\n",
              "      <td>Pernambuco</td>\n",
              "      <td>0</td>\n",
              "    </tr>\n",
              "    <tr>\n",
              "      <th>2</th>\n",
              "      <td>255000</td>\n",
              "      <td>-8.037247</td>\n",
              "      <td>-34.890986</td>\n",
              "      <td>2.0</td>\n",
              "      <td>82.0</td>\n",
              "      <td>1.0</td>\n",
              "      <td>2.0</td>\n",
              "      <td>NaN</td>\n",
              "      <td>Encruzilhada</td>\n",
              "      <td>Recife</td>\n",
              "      <td>Recife</td>\n",
              "      <td>Pernambuco</td>\n",
              "      <td>0</td>\n",
              "    </tr>\n",
              "    <tr>\n",
              "      <th>3</th>\n",
              "      <td>380000</td>\n",
              "      <td>-8.047562</td>\n",
              "      <td>-34.876964</td>\n",
              "      <td>3.0</td>\n",
              "      <td>95.0</td>\n",
              "      <td>2.0</td>\n",
              "      <td>3.0</td>\n",
              "      <td>1.0</td>\n",
              "      <td>Santo Amaro</td>\n",
              "      <td>Recife</td>\n",
              "      <td>Recife</td>\n",
              "      <td>Pernambuco</td>\n",
              "      <td>0</td>\n",
              "    </tr>\n",
              "    <tr>\n",
              "      <th>4</th>\n",
              "      <td>300000</td>\n",
              "      <td>-8.053580</td>\n",
              "      <td>-34.908733</td>\n",
              "      <td>3.0</td>\n",
              "      <td>97.0</td>\n",
              "      <td>1.0</td>\n",
              "      <td>3.0</td>\n",
              "      <td>1.0</td>\n",
              "      <td>Madalena</td>\n",
              "      <td>Recife</td>\n",
              "      <td>Recife</td>\n",
              "      <td>Pernambuco</td>\n",
              "      <td>0</td>\n",
              "    </tr>\n",
              "  </tbody>\n",
              "</table>\n",
              "</div>"
            ],
            "text/plain": [
              "    price  latitude  longitude  bedrooms  area  pkspaces  bathrooms  ensuites  \\\n",
              "0    1500 -8.059791 -34.889619       4.0  37.0       3.0        3.0       NaN   \n",
              "1  330000 -8.029595 -34.900372       3.0  86.0       1.0        3.0       1.0   \n",
              "2  255000 -8.037247 -34.890986       2.0  82.0       1.0        2.0       NaN   \n",
              "3  380000 -8.047562 -34.876964       3.0  95.0       2.0        3.0       1.0   \n",
              "4  300000 -8.053580 -34.908733       3.0  97.0       1.0        3.0       1.0   \n",
              "\n",
              "         suburb district    city       state  type  \n",
              "0     Boa Vista   Recife  Recife  Pernambuco     0  \n",
              "1   Tamarineira   Recife  Recife  Pernambuco     0  \n",
              "2  Encruzilhada   Recife  Recife  Pernambuco     0  \n",
              "3   Santo Amaro   Recife  Recife  Pernambuco     0  \n",
              "4      Madalena   Recife  Recife  Pernambuco     0  "
            ]
          },
          "metadata": {
            "tags": []
          },
          "execution_count": 16
        }
      ]
    },
    {
      "cell_type": "code",
      "metadata": {
        "colab_type": "code",
        "id": "DSn6V9TuoLXs",
        "outputId": "ba913e2d-8059-4aaf-a52b-7d4203130573",
        "colab": {
          "base_uri": "https://localhost:8080/",
          "height": 255
        }
      },
      "source": [
        "houses.dtypes"
      ],
      "execution_count": 0,
      "outputs": [
        {
          "output_type": "execute_result",
          "data": {
            "text/plain": [
              "price           int64\n",
              "latitude      float64\n",
              "longitude     float64\n",
              "bedrooms      float64\n",
              "area          float64\n",
              "pkspaces      float64\n",
              "bathrooms     float64\n",
              "ensuites      float64\n",
              "suburb       category\n",
              "district     category\n",
              "city         category\n",
              "state        category\n",
              "type             int8\n",
              "dtype: object"
            ]
          },
          "metadata": {
            "tags": []
          },
          "execution_count": 17
        }
      ]
    },
    {
      "cell_type": "markdown",
      "metadata": {
        "colab_type": "text",
        "id": "6V4tDIKz4tOg"
      },
      "source": [
        "## Removendo instâncias"
      ]
    },
    {
      "cell_type": "code",
      "metadata": {
        "colab_type": "code",
        "id": "vOlvLmYtI0pK",
        "outputId": "d0dd380b-0302-4f23-fb8f-97e9d2e082e1",
        "colab": {
          "base_uri": "https://localhost:8080/",
          "height": 34
        }
      },
      "source": [
        "houses.shape"
      ],
      "execution_count": 0,
      "outputs": [
        {
          "output_type": "execute_result",
          "data": {
            "text/plain": [
              "(1744, 13)"
            ]
          },
          "metadata": {
            "tags": []
          },
          "execution_count": 18
        }
      ]
    },
    {
      "cell_type": "code",
      "metadata": {
        "colab_type": "code",
        "id": "HZQ-Q33r_Uz_",
        "outputId": "1e61e240-0938-4d46-babc-3b44e48f9093",
        "colab": {
          "base_uri": "https://localhost:8080/",
          "height": 374
        }
      },
      "source": [
        "print(houses.isnull().sum())"
      ],
      "execution_count": 0,
      "outputs": [
        {
          "output_type": "stream",
          "text": [
            "Country                                0\n",
            "Region                                 0\n",
            "Population                             0\n",
            "Area (sq. mi.)                         0\n",
            "Pop. Density (per sq. mi.)             0\n",
            "Coastline (coast/area ratio)           0\n",
            "Net migration                          3\n",
            "Infant mortality (per 1000 births)     3\n",
            "GDP ($ per capita)                     1\n",
            "Literacy (%)                          18\n",
            "Phones (per 1000)                      4\n",
            "Arable (%)                             2\n",
            "Crops (%)                              2\n",
            "Other (%)                              2\n",
            "Climate                               22\n",
            "Birthrate                              3\n",
            "Deathrate                              4\n",
            "Agriculture                           15\n",
            "Industry                              16\n",
            "Service                               15\n",
            "dtype: int64\n"
          ],
          "name": "stdout"
        }
      ]
    },
    {
      "cell_type": "code",
      "metadata": {
        "colab_type": "code",
        "id": "h0YAUcWM_MgK",
        "outputId": "7efa9ec0-bdd9-484e-9368-23dbb934a09e",
        "colab": {
          "base_uri": "https://localhost:8080/",
          "height": 204
        }
      },
      "source": [
        "#remove instâncias com ao menos 1 elemento faltando\n",
        "houses1 = houses.dropna()\n",
        "houses1.head()"
      ],
      "execution_count": 0,
      "outputs": [
        {
          "output_type": "execute_result",
          "data": {
            "text/html": [
              "<div>\n",
              "<style scoped>\n",
              "    .dataframe tbody tr th:only-of-type {\n",
              "        vertical-align: middle;\n",
              "    }\n",
              "\n",
              "    .dataframe tbody tr th {\n",
              "        vertical-align: top;\n",
              "    }\n",
              "\n",
              "    .dataframe thead th {\n",
              "        text-align: right;\n",
              "    }\n",
              "</style>\n",
              "<table border=\"1\" class=\"dataframe\">\n",
              "  <thead>\n",
              "    <tr style=\"text-align: right;\">\n",
              "      <th></th>\n",
              "      <th>price</th>\n",
              "      <th>latitude</th>\n",
              "      <th>longitude</th>\n",
              "      <th>bedrooms</th>\n",
              "      <th>area</th>\n",
              "      <th>pkspaces</th>\n",
              "      <th>bathrooms</th>\n",
              "      <th>ensuites</th>\n",
              "      <th>suburb</th>\n",
              "      <th>district</th>\n",
              "      <th>city</th>\n",
              "      <th>state</th>\n",
              "      <th>type</th>\n",
              "    </tr>\n",
              "  </thead>\n",
              "  <tbody>\n",
              "    <tr>\n",
              "      <th>1</th>\n",
              "      <td>330000</td>\n",
              "      <td>-8.029595</td>\n",
              "      <td>-34.900372</td>\n",
              "      <td>3.0</td>\n",
              "      <td>86.0</td>\n",
              "      <td>1.0</td>\n",
              "      <td>3.0</td>\n",
              "      <td>1.0</td>\n",
              "      <td>Tamarineira</td>\n",
              "      <td>Recife</td>\n",
              "      <td>Recife</td>\n",
              "      <td>Pernambuco</td>\n",
              "      <td>0</td>\n",
              "    </tr>\n",
              "    <tr>\n",
              "      <th>3</th>\n",
              "      <td>380000</td>\n",
              "      <td>-8.047562</td>\n",
              "      <td>-34.876964</td>\n",
              "      <td>3.0</td>\n",
              "      <td>95.0</td>\n",
              "      <td>2.0</td>\n",
              "      <td>3.0</td>\n",
              "      <td>1.0</td>\n",
              "      <td>Santo Amaro</td>\n",
              "      <td>Recife</td>\n",
              "      <td>Recife</td>\n",
              "      <td>Pernambuco</td>\n",
              "      <td>0</td>\n",
              "    </tr>\n",
              "    <tr>\n",
              "      <th>4</th>\n",
              "      <td>300000</td>\n",
              "      <td>-8.053580</td>\n",
              "      <td>-34.908733</td>\n",
              "      <td>3.0</td>\n",
              "      <td>97.0</td>\n",
              "      <td>1.0</td>\n",
              "      <td>3.0</td>\n",
              "      <td>1.0</td>\n",
              "      <td>Madalena</td>\n",
              "      <td>Recife</td>\n",
              "      <td>Recife</td>\n",
              "      <td>Pernambuco</td>\n",
              "      <td>0</td>\n",
              "    </tr>\n",
              "    <tr>\n",
              "      <th>5</th>\n",
              "      <td>320000</td>\n",
              "      <td>-8.026516</td>\n",
              "      <td>-34.917791</td>\n",
              "      <td>2.0</td>\n",
              "      <td>50.0</td>\n",
              "      <td>1.0</td>\n",
              "      <td>2.0</td>\n",
              "      <td>1.0</td>\n",
              "      <td>Casa Amarela</td>\n",
              "      <td>Recife</td>\n",
              "      <td>Recife</td>\n",
              "      <td>Pernambuco</td>\n",
              "      <td>0</td>\n",
              "    </tr>\n",
              "    <tr>\n",
              "      <th>6</th>\n",
              "      <td>750000</td>\n",
              "      <td>-8.047562</td>\n",
              "      <td>-34.876964</td>\n",
              "      <td>4.0</td>\n",
              "      <td>115.0</td>\n",
              "      <td>2.0</td>\n",
              "      <td>4.0</td>\n",
              "      <td>2.0</td>\n",
              "      <td>Santo Amaro</td>\n",
              "      <td>Recife</td>\n",
              "      <td>Recife</td>\n",
              "      <td>Pernambuco</td>\n",
              "      <td>0</td>\n",
              "    </tr>\n",
              "  </tbody>\n",
              "</table>\n",
              "</div>"
            ],
            "text/plain": [
              "    price  latitude  longitude  bedrooms   area  pkspaces  bathrooms  \\\n",
              "1  330000 -8.029595 -34.900372       3.0   86.0       1.0        3.0   \n",
              "3  380000 -8.047562 -34.876964       3.0   95.0       2.0        3.0   \n",
              "4  300000 -8.053580 -34.908733       3.0   97.0       1.0        3.0   \n",
              "5  320000 -8.026516 -34.917791       2.0   50.0       1.0        2.0   \n",
              "6  750000 -8.047562 -34.876964       4.0  115.0       2.0        4.0   \n",
              "\n",
              "   ensuites        suburb district    city       state  type  \n",
              "1       1.0   Tamarineira   Recife  Recife  Pernambuco     0  \n",
              "3       1.0   Santo Amaro   Recife  Recife  Pernambuco     0  \n",
              "4       1.0      Madalena   Recife  Recife  Pernambuco     0  \n",
              "5       1.0  Casa Amarela   Recife  Recife  Pernambuco     0  \n",
              "6       2.0   Santo Amaro   Recife  Recife  Pernambuco     0  "
            ]
          },
          "metadata": {
            "tags": []
          },
          "execution_count": 19
        }
      ]
    },
    {
      "cell_type": "code",
      "metadata": {
        "colab_type": "code",
        "id": "RQz6Xour_X9u",
        "outputId": "849006a5-b801-44b6-fe87-7f2e4d6f2d07",
        "colab": {
          "base_uri": "https://localhost:8080/",
          "height": 34
        }
      },
      "source": [
        "len(houses1)"
      ],
      "execution_count": 0,
      "outputs": [
        {
          "output_type": "execute_result",
          "data": {
            "text/plain": [
              "758"
            ]
          },
          "metadata": {
            "tags": []
          },
          "execution_count": 15
        }
      ]
    },
    {
      "cell_type": "code",
      "metadata": {
        "colab_type": "code",
        "id": "cw5iAC75C6Kc",
        "outputId": "88bf39c4-7e97-4dda-d149-5166a4624f1a",
        "colab": {
          "base_uri": "https://localhost:8080/",
          "height": 255
        }
      },
      "source": [
        "print(houses1.isnull().sum())"
      ],
      "execution_count": 0,
      "outputs": [
        {
          "output_type": "stream",
          "text": [
            "price        0\n",
            "latitude     0\n",
            "longitude    0\n",
            "bedrooms     0\n",
            "area         0\n",
            "pkspaces     0\n",
            "bathrooms    0\n",
            "ensuites     0\n",
            "suburb       0\n",
            "district     0\n",
            "city         0\n",
            "state        0\n",
            "type         0\n",
            "dtype: int64\n"
          ],
          "name": "stdout"
        }
      ]
    },
    {
      "cell_type": "markdown",
      "metadata": {
        "colab_type": "text",
        "id": "w6TtysO543sh"
      },
      "source": [
        "## Removendo colunas quase vazias"
      ]
    },
    {
      "cell_type": "code",
      "metadata": {
        "colab_type": "code",
        "id": "9f1rRTHv5qQn",
        "outputId": "acbcb3d4-fe6e-42ed-addb-886164b46455",
        "colab": {
          "base_uri": "https://localhost:8080/",
          "height": 255
        }
      },
      "source": [
        "print(houses.isnull().sum())"
      ],
      "execution_count": 0,
      "outputs": [
        {
          "output_type": "stream",
          "text": [
            "price          0\n",
            "latitude       0\n",
            "longitude      0\n",
            "bedrooms       7\n",
            "area          23\n",
            "pkspaces      98\n",
            "bathrooms    206\n",
            "ensuites     980\n",
            "suburb         0\n",
            "district       0\n",
            "city           0\n",
            "state          0\n",
            "type           0\n",
            "dtype: int64\n"
          ],
          "name": "stdout"
        }
      ]
    },
    {
      "cell_type": "code",
      "metadata": {
        "colab_type": "code",
        "id": "M8rrOHlj_Zak",
        "colab": {}
      },
      "source": [
        "#remove colunas com menos de 70% de dados ausentes\n",
        "houses2 = houses.dropna(thresh=0.7*len(houses), axis=1)"
      ],
      "execution_count": 0,
      "outputs": []
    },
    {
      "cell_type": "code",
      "metadata": {
        "colab_type": "code",
        "id": "fe55fINPBF-O",
        "outputId": "0a881601-e13a-4b66-d5da-357ed3196703",
        "colab": {
          "base_uri": "https://localhost:8080/",
          "height": 204
        }
      },
      "source": [
        "houses2.head()"
      ],
      "execution_count": 0,
      "outputs": [
        {
          "output_type": "execute_result",
          "data": {
            "text/html": [
              "<div>\n",
              "<style scoped>\n",
              "    .dataframe tbody tr th:only-of-type {\n",
              "        vertical-align: middle;\n",
              "    }\n",
              "\n",
              "    .dataframe tbody tr th {\n",
              "        vertical-align: top;\n",
              "    }\n",
              "\n",
              "    .dataframe thead th {\n",
              "        text-align: right;\n",
              "    }\n",
              "</style>\n",
              "<table border=\"1\" class=\"dataframe\">\n",
              "  <thead>\n",
              "    <tr style=\"text-align: right;\">\n",
              "      <th></th>\n",
              "      <th>price</th>\n",
              "      <th>latitude</th>\n",
              "      <th>longitude</th>\n",
              "      <th>bedrooms</th>\n",
              "      <th>area</th>\n",
              "      <th>pkspaces</th>\n",
              "      <th>bathrooms</th>\n",
              "      <th>suburb</th>\n",
              "      <th>district</th>\n",
              "      <th>city</th>\n",
              "      <th>state</th>\n",
              "      <th>type</th>\n",
              "    </tr>\n",
              "  </thead>\n",
              "  <tbody>\n",
              "    <tr>\n",
              "      <th>0</th>\n",
              "      <td>1500</td>\n",
              "      <td>-8.059791</td>\n",
              "      <td>-34.889619</td>\n",
              "      <td>4.0</td>\n",
              "      <td>37.0</td>\n",
              "      <td>3.0</td>\n",
              "      <td>3.0</td>\n",
              "      <td>Boa Vista</td>\n",
              "      <td>Recife</td>\n",
              "      <td>Recife</td>\n",
              "      <td>Pernambuco</td>\n",
              "      <td>0</td>\n",
              "    </tr>\n",
              "    <tr>\n",
              "      <th>1</th>\n",
              "      <td>330000</td>\n",
              "      <td>-8.029595</td>\n",
              "      <td>-34.900372</td>\n",
              "      <td>3.0</td>\n",
              "      <td>86.0</td>\n",
              "      <td>1.0</td>\n",
              "      <td>3.0</td>\n",
              "      <td>Tamarineira</td>\n",
              "      <td>Recife</td>\n",
              "      <td>Recife</td>\n",
              "      <td>Pernambuco</td>\n",
              "      <td>0</td>\n",
              "    </tr>\n",
              "    <tr>\n",
              "      <th>2</th>\n",
              "      <td>255000</td>\n",
              "      <td>-8.037247</td>\n",
              "      <td>-34.890986</td>\n",
              "      <td>2.0</td>\n",
              "      <td>82.0</td>\n",
              "      <td>1.0</td>\n",
              "      <td>2.0</td>\n",
              "      <td>Encruzilhada</td>\n",
              "      <td>Recife</td>\n",
              "      <td>Recife</td>\n",
              "      <td>Pernambuco</td>\n",
              "      <td>0</td>\n",
              "    </tr>\n",
              "    <tr>\n",
              "      <th>3</th>\n",
              "      <td>380000</td>\n",
              "      <td>-8.047562</td>\n",
              "      <td>-34.876964</td>\n",
              "      <td>3.0</td>\n",
              "      <td>95.0</td>\n",
              "      <td>2.0</td>\n",
              "      <td>3.0</td>\n",
              "      <td>Santo Amaro</td>\n",
              "      <td>Recife</td>\n",
              "      <td>Recife</td>\n",
              "      <td>Pernambuco</td>\n",
              "      <td>0</td>\n",
              "    </tr>\n",
              "    <tr>\n",
              "      <th>4</th>\n",
              "      <td>300000</td>\n",
              "      <td>-8.053580</td>\n",
              "      <td>-34.908733</td>\n",
              "      <td>3.0</td>\n",
              "      <td>97.0</td>\n",
              "      <td>1.0</td>\n",
              "      <td>3.0</td>\n",
              "      <td>Madalena</td>\n",
              "      <td>Recife</td>\n",
              "      <td>Recife</td>\n",
              "      <td>Pernambuco</td>\n",
              "      <td>0</td>\n",
              "    </tr>\n",
              "  </tbody>\n",
              "</table>\n",
              "</div>"
            ],
            "text/plain": [
              "    price  latitude  longitude  bedrooms  area  pkspaces  bathrooms  \\\n",
              "0    1500 -8.059791 -34.889619       4.0  37.0       3.0        3.0   \n",
              "1  330000 -8.029595 -34.900372       3.0  86.0       1.0        3.0   \n",
              "2  255000 -8.037247 -34.890986       2.0  82.0       1.0        2.0   \n",
              "3  380000 -8.047562 -34.876964       3.0  95.0       2.0        3.0   \n",
              "4  300000 -8.053580 -34.908733       3.0  97.0       1.0        3.0   \n",
              "\n",
              "         suburb district    city       state  type  \n",
              "0     Boa Vista   Recife  Recife  Pernambuco     0  \n",
              "1   Tamarineira   Recife  Recife  Pernambuco     0  \n",
              "2  Encruzilhada   Recife  Recife  Pernambuco     0  \n",
              "3   Santo Amaro   Recife  Recife  Pernambuco     0  \n",
              "4      Madalena   Recife  Recife  Pernambuco     0  "
            ]
          },
          "metadata": {
            "tags": []
          },
          "execution_count": 22
        }
      ]
    },
    {
      "cell_type": "code",
      "metadata": {
        "colab_type": "code",
        "id": "YMrPX-LZBQZJ",
        "outputId": "e1a522a2-ecd0-4dd7-9efc-3cb4c6a035ab",
        "colab": {
          "base_uri": "https://localhost:8080/",
          "height": 238
        }
      },
      "source": [
        "print(houses2.isnull().sum())"
      ],
      "execution_count": 0,
      "outputs": [
        {
          "output_type": "stream",
          "text": [
            "price          0\n",
            "latitude       0\n",
            "longitude      0\n",
            "bedrooms       7\n",
            "area          23\n",
            "pkspaces      98\n",
            "bathrooms    206\n",
            "suburb         0\n",
            "district       0\n",
            "city           0\n",
            "state          0\n",
            "type           0\n",
            "dtype: int64\n"
          ],
          "name": "stdout"
        }
      ]
    },
    {
      "cell_type": "markdown",
      "metadata": {
        "colab_type": "text",
        "id": "4NkmolL950rQ"
      },
      "source": [
        "## Inserindo dados ausentes em 1 coluna"
      ]
    },
    {
      "cell_type": "code",
      "metadata": {
        "colab_type": "code",
        "id": "oZO6EE-lEGP0",
        "outputId": "17bba84b-da8d-4443-92f5-f2ef317107a1",
        "colab": {
          "base_uri": "https://localhost:8080/",
          "height": 51
        }
      },
      "source": [
        "print(houses['GDP ($ per capita)'].mean())\n",
        "print(houses['GDP ($ per capita)'].median())"
      ],
      "execution_count": 0,
      "outputs": [
        {
          "output_type": "stream",
          "text": [
            "9689.823008849558\n",
            "5550.0\n"
          ],
          "name": "stdout"
        }
      ]
    },
    {
      "cell_type": "code",
      "metadata": {
        "colab_type": "code",
        "id": "_2-IwIR3DIfa",
        "outputId": "55e95f08-a6f8-4144-cdbb-f81df780ecd3",
        "colab": {
          "base_uri": "https://localhost:8080/",
          "height": 68
        }
      },
      "source": [
        "#adiciona media de banheiros nos dados ausentes de banheiros\n",
        "#houses[['GDP ($ per capita)','Infant mortality (per 1000 births)']].mean()\n",
        "houses[['GDP ($ per capita)','Infant mortality (per 1000 births)']].isnull().sum()\n",
        "#houses[['GDP ($ per capita)','Infant mortality (per 1000 births)']].fillna(houses[['GDP ($ per capita)','Infant mortality (per 1000 births)']].mean(), inplace=True)"
      ],
      "execution_count": 0,
      "outputs": [
        {
          "output_type": "execute_result",
          "data": {
            "text/plain": [
              "GDP ($ per capita)                    0\n",
              "Infant mortality (per 1000 births)    3\n",
              "dtype: int64"
            ]
          },
          "metadata": {
            "tags": []
          },
          "execution_count": 18
        }
      ]
    },
    {
      "cell_type": "code",
      "metadata": {
        "colab_type": "code",
        "id": "rYm8ysHXFZ8p",
        "outputId": "96ab5b5d-73eb-4e9a-c926-83c3b48d426d",
        "colab": {
          "base_uri": "https://localhost:8080/",
          "height": 374
        }
      },
      "source": [
        "print(houses.isnull().sum())"
      ],
      "execution_count": 0,
      "outputs": [
        {
          "output_type": "stream",
          "text": [
            "Country                                0\n",
            "Region                                 0\n",
            "Population                             0\n",
            "Area (sq. mi.)                         0\n",
            "Pop. Density (per sq. mi.)             0\n",
            "Coastline (coast/area ratio)           0\n",
            "Net migration                          3\n",
            "Infant mortality (per 1000 births)     3\n",
            "GDP ($ per capita)                     0\n",
            "Literacy (%)                          18\n",
            "Phones (per 1000)                      4\n",
            "Arable (%)                             2\n",
            "Crops (%)                              2\n",
            "Other (%)                              2\n",
            "Climate                               22\n",
            "Birthrate                              3\n",
            "Deathrate                              4\n",
            "Agriculture                           15\n",
            "Industry                              16\n",
            "Service                               15\n",
            "dtype: int64\n"
          ],
          "name": "stdout"
        }
      ]
    },
    {
      "cell_type": "code",
      "metadata": {
        "colab_type": "code",
        "id": "oSlKHmbpDvXC",
        "outputId": "034105c1-7620-4ab7-dc9e-2299c09e15b3",
        "colab": {
          "base_uri": "https://localhost:8080/",
          "height": 51
        }
      },
      "source": [
        "print(houses2['bathrooms'].mean())\n",
        "print(houses2['bathrooms'].median())"
      ],
      "execution_count": 0,
      "outputs": [
        {
          "output_type": "stream",
          "text": [
            "2.6768530559167534\n",
            "2.676853055916775\n"
          ],
          "name": "stdout"
        }
      ]
    },
    {
      "cell_type": "code",
      "metadata": {
        "colab_type": "code",
        "id": "sANvcpHsEWV0",
        "outputId": "feab1f28-0524-4568-c527-30b191fba7e5",
        "colab": {
          "base_uri": "https://localhost:8080/",
          "height": 266
        }
      },
      "source": [
        "houses2.corr(method='spearman')"
      ],
      "execution_count": 0,
      "outputs": [
        {
          "output_type": "execute_result",
          "data": {
            "text/html": [
              "<div>\n",
              "<style scoped>\n",
              "    .dataframe tbody tr th:only-of-type {\n",
              "        vertical-align: middle;\n",
              "    }\n",
              "\n",
              "    .dataframe tbody tr th {\n",
              "        vertical-align: top;\n",
              "    }\n",
              "\n",
              "    .dataframe thead th {\n",
              "        text-align: right;\n",
              "    }\n",
              "</style>\n",
              "<table border=\"1\" class=\"dataframe\">\n",
              "  <thead>\n",
              "    <tr style=\"text-align: right;\">\n",
              "      <th></th>\n",
              "      <th>price</th>\n",
              "      <th>latitude</th>\n",
              "      <th>longitude</th>\n",
              "      <th>bedrooms</th>\n",
              "      <th>area</th>\n",
              "      <th>pkspaces</th>\n",
              "      <th>bathrooms</th>\n",
              "    </tr>\n",
              "  </thead>\n",
              "  <tbody>\n",
              "    <tr>\n",
              "      <th>price</th>\n",
              "      <td>1.000000</td>\n",
              "      <td>0.142366</td>\n",
              "      <td>0.003046</td>\n",
              "      <td>0.485487</td>\n",
              "      <td>0.492475</td>\n",
              "      <td>0.428939</td>\n",
              "      <td>0.508781</td>\n",
              "    </tr>\n",
              "    <tr>\n",
              "      <th>latitude</th>\n",
              "      <td>0.142366</td>\n",
              "      <td>1.000000</td>\n",
              "      <td>-0.159716</td>\n",
              "      <td>-0.037816</td>\n",
              "      <td>0.009346</td>\n",
              "      <td>0.006300</td>\n",
              "      <td>0.101693</td>\n",
              "    </tr>\n",
              "    <tr>\n",
              "      <th>longitude</th>\n",
              "      <td>0.003046</td>\n",
              "      <td>-0.159716</td>\n",
              "      <td>1.000000</td>\n",
              "      <td>0.000067</td>\n",
              "      <td>-0.042796</td>\n",
              "      <td>-0.082754</td>\n",
              "      <td>0.041270</td>\n",
              "    </tr>\n",
              "    <tr>\n",
              "      <th>bedrooms</th>\n",
              "      <td>0.485487</td>\n",
              "      <td>-0.037816</td>\n",
              "      <td>0.000067</td>\n",
              "      <td>1.000000</td>\n",
              "      <td>0.674139</td>\n",
              "      <td>0.676838</td>\n",
              "      <td>0.642759</td>\n",
              "    </tr>\n",
              "    <tr>\n",
              "      <th>area</th>\n",
              "      <td>0.492475</td>\n",
              "      <td>0.009346</td>\n",
              "      <td>-0.042796</td>\n",
              "      <td>0.674139</td>\n",
              "      <td>1.000000</td>\n",
              "      <td>0.647847</td>\n",
              "      <td>0.525298</td>\n",
              "    </tr>\n",
              "    <tr>\n",
              "      <th>pkspaces</th>\n",
              "      <td>0.428939</td>\n",
              "      <td>0.006300</td>\n",
              "      <td>-0.082754</td>\n",
              "      <td>0.676838</td>\n",
              "      <td>0.647847</td>\n",
              "      <td>1.000000</td>\n",
              "      <td>0.520335</td>\n",
              "    </tr>\n",
              "    <tr>\n",
              "      <th>bathrooms</th>\n",
              "      <td>0.508781</td>\n",
              "      <td>0.101693</td>\n",
              "      <td>0.041270</td>\n",
              "      <td>0.642759</td>\n",
              "      <td>0.525298</td>\n",
              "      <td>0.520335</td>\n",
              "      <td>1.000000</td>\n",
              "    </tr>\n",
              "  </tbody>\n",
              "</table>\n",
              "</div>"
            ],
            "text/plain": [
              "              price  latitude  longitude  bedrooms      area  pkspaces  \\\n",
              "price      1.000000  0.142366   0.003046  0.485487  0.492475  0.428939   \n",
              "latitude   0.142366  1.000000  -0.159716 -0.037816  0.009346  0.006300   \n",
              "longitude  0.003046 -0.159716   1.000000  0.000067 -0.042796 -0.082754   \n",
              "bedrooms   0.485487 -0.037816   0.000067  1.000000  0.674139  0.676838   \n",
              "area       0.492475  0.009346  -0.042796  0.674139  1.000000  0.647847   \n",
              "pkspaces   0.428939  0.006300  -0.082754  0.676838  0.647847  1.000000   \n",
              "bathrooms  0.508781  0.101693   0.041270  0.642759  0.525298  0.520335   \n",
              "\n",
              "           bathrooms  \n",
              "price       0.508781  \n",
              "latitude    0.101693  \n",
              "longitude   0.041270  \n",
              "bedrooms    0.642759  \n",
              "area        0.525298  \n",
              "pkspaces    0.520335  \n",
              "bathrooms   1.000000  "
            ]
          },
          "metadata": {
            "tags": []
          },
          "execution_count": 25
        }
      ]
    },
    {
      "cell_type": "code",
      "metadata": {
        "colab_type": "code",
        "id": "Wt4hcZZ_GMq9",
        "outputId": "5e926461-9ff2-4aaa-d52d-344796bcf947",
        "colab": {
          "base_uri": "https://localhost:8080/",
          "height": 297
        }
      },
      "source": [
        "houses.corr(method='spearman')"
      ],
      "execution_count": 0,
      "outputs": [
        {
          "output_type": "execute_result",
          "data": {
            "text/html": [
              "<div>\n",
              "<style scoped>\n",
              "    .dataframe tbody tr th:only-of-type {\n",
              "        vertical-align: middle;\n",
              "    }\n",
              "\n",
              "    .dataframe tbody tr th {\n",
              "        vertical-align: top;\n",
              "    }\n",
              "\n",
              "    .dataframe thead th {\n",
              "        text-align: right;\n",
              "    }\n",
              "</style>\n",
              "<table border=\"1\" class=\"dataframe\">\n",
              "  <thead>\n",
              "    <tr style=\"text-align: right;\">\n",
              "      <th></th>\n",
              "      <th>price</th>\n",
              "      <th>latitude</th>\n",
              "      <th>longitude</th>\n",
              "      <th>bedrooms</th>\n",
              "      <th>area</th>\n",
              "      <th>pkspaces</th>\n",
              "      <th>bathrooms</th>\n",
              "      <th>ensuites</th>\n",
              "    </tr>\n",
              "  </thead>\n",
              "  <tbody>\n",
              "    <tr>\n",
              "      <th>price</th>\n",
              "      <td>1.000000</td>\n",
              "      <td>0.142366</td>\n",
              "      <td>0.003046</td>\n",
              "      <td>0.485487</td>\n",
              "      <td>0.492475</td>\n",
              "      <td>0.428939</td>\n",
              "      <td>0.559964</td>\n",
              "      <td>0.621447</td>\n",
              "    </tr>\n",
              "    <tr>\n",
              "      <th>latitude</th>\n",
              "      <td>0.142366</td>\n",
              "      <td>1.000000</td>\n",
              "      <td>-0.159716</td>\n",
              "      <td>-0.037816</td>\n",
              "      <td>0.009346</td>\n",
              "      <td>0.006300</td>\n",
              "      <td>0.131152</td>\n",
              "      <td>0.082037</td>\n",
              "    </tr>\n",
              "    <tr>\n",
              "      <th>longitude</th>\n",
              "      <td>0.003046</td>\n",
              "      <td>-0.159716</td>\n",
              "      <td>1.000000</td>\n",
              "      <td>0.000067</td>\n",
              "      <td>-0.042796</td>\n",
              "      <td>-0.082754</td>\n",
              "      <td>0.036063</td>\n",
              "      <td>-0.153205</td>\n",
              "    </tr>\n",
              "    <tr>\n",
              "      <th>bedrooms</th>\n",
              "      <td>0.485487</td>\n",
              "      <td>-0.037816</td>\n",
              "      <td>0.000067</td>\n",
              "      <td>1.000000</td>\n",
              "      <td>0.674139</td>\n",
              "      <td>0.676838</td>\n",
              "      <td>0.688388</td>\n",
              "      <td>0.563133</td>\n",
              "    </tr>\n",
              "    <tr>\n",
              "      <th>area</th>\n",
              "      <td>0.492475</td>\n",
              "      <td>0.009346</td>\n",
              "      <td>-0.042796</td>\n",
              "      <td>0.674139</td>\n",
              "      <td>1.000000</td>\n",
              "      <td>0.647847</td>\n",
              "      <td>0.569009</td>\n",
              "      <td>0.614660</td>\n",
              "    </tr>\n",
              "    <tr>\n",
              "      <th>pkspaces</th>\n",
              "      <td>0.428939</td>\n",
              "      <td>0.006300</td>\n",
              "      <td>-0.082754</td>\n",
              "      <td>0.676838</td>\n",
              "      <td>0.647847</td>\n",
              "      <td>1.000000</td>\n",
              "      <td>0.559461</td>\n",
              "      <td>0.558090</td>\n",
              "    </tr>\n",
              "    <tr>\n",
              "      <th>bathrooms</th>\n",
              "      <td>0.559964</td>\n",
              "      <td>0.131152</td>\n",
              "      <td>0.036063</td>\n",
              "      <td>0.688388</td>\n",
              "      <td>0.569009</td>\n",
              "      <td>0.559461</td>\n",
              "      <td>1.000000</td>\n",
              "      <td>0.682480</td>\n",
              "    </tr>\n",
              "    <tr>\n",
              "      <th>ensuites</th>\n",
              "      <td>0.621447</td>\n",
              "      <td>0.082037</td>\n",
              "      <td>-0.153205</td>\n",
              "      <td>0.563133</td>\n",
              "      <td>0.614660</td>\n",
              "      <td>0.558090</td>\n",
              "      <td>0.682480</td>\n",
              "      <td>1.000000</td>\n",
              "    </tr>\n",
              "  </tbody>\n",
              "</table>\n",
              "</div>"
            ],
            "text/plain": [
              "              price  latitude  longitude  bedrooms      area  pkspaces  \\\n",
              "price      1.000000  0.142366   0.003046  0.485487  0.492475  0.428939   \n",
              "latitude   0.142366  1.000000  -0.159716 -0.037816  0.009346  0.006300   \n",
              "longitude  0.003046 -0.159716   1.000000  0.000067 -0.042796 -0.082754   \n",
              "bedrooms   0.485487 -0.037816   0.000067  1.000000  0.674139  0.676838   \n",
              "area       0.492475  0.009346  -0.042796  0.674139  1.000000  0.647847   \n",
              "pkspaces   0.428939  0.006300  -0.082754  0.676838  0.647847  1.000000   \n",
              "bathrooms  0.559964  0.131152   0.036063  0.688388  0.569009  0.559461   \n",
              "ensuites   0.621447  0.082037  -0.153205  0.563133  0.614660  0.558090   \n",
              "\n",
              "           bathrooms  ensuites  \n",
              "price       0.559964  0.621447  \n",
              "latitude    0.131152  0.082037  \n",
              "longitude   0.036063 -0.153205  \n",
              "bedrooms    0.688388  0.563133  \n",
              "area        0.569009  0.614660  \n",
              "pkspaces    0.559461  0.558090  \n",
              "bathrooms   1.000000  0.682480  \n",
              "ensuites    0.682480  1.000000  "
            ]
          },
          "metadata": {
            "tags": []
          },
          "execution_count": 26
        }
      ]
    },
    {
      "cell_type": "code",
      "metadata": {
        "colab_type": "code",
        "id": "wtwjyoeZCUQM",
        "outputId": "5b32dd3e-7faf-4c8c-e194-2ddaa62cd1ce",
        "colab": {
          "base_uri": "https://localhost:8080/",
          "height": 102
        }
      },
      "source": [
        "#remove colunas com menos de 70% de dados ausentes\n",
        "houses2 = houses.dropna(thresh=0.7*len(houses), axis=1)\n",
        "#adiciona mediana de banheiros nos dados ausentes de banheiros\n",
        "houses2['bathrooms'].fillna(houses2['bathrooms'].median(), inplace=True)\n"
      ],
      "execution_count": 0,
      "outputs": [
        {
          "output_type": "stream",
          "text": [
            "/usr/local/lib/python3.6/dist-packages/pandas/core/generic.py:4355: SettingWithCopyWarning: \n",
            "A value is trying to be set on a copy of a slice from a DataFrame\n",
            "\n",
            "See the caveats in the documentation: http://pandas.pydata.org/pandas-docs/stable/indexing.html#indexing-view-versus-copy\n",
            "  self._update_inplace(new_data)\n"
          ],
          "name": "stderr"
        }
      ]
    },
    {
      "cell_type": "code",
      "metadata": {
        "colab_type": "code",
        "id": "Y3tPK6f-EkYi",
        "outputId": "5adb2b52-508b-4bfa-dd78-a1234244a638",
        "colab": {
          "base_uri": "https://localhost:8080/",
          "height": 51
        }
      },
      "source": [
        "print(houses2['bathrooms'].mean())\n",
        "print(houses2['bathrooms'].median())"
      ],
      "execution_count": 0,
      "outputs": [
        {
          "output_type": "stream",
          "text": [
            "2.7150229357798166\n",
            "3.0\n"
          ],
          "name": "stdout"
        }
      ]
    },
    {
      "cell_type": "code",
      "metadata": {
        "colab_type": "code",
        "id": "Uxuhu1wKE298",
        "outputId": "9c7f504b-2224-410e-eba7-81927d0977dc",
        "colab": {
          "base_uri": "https://localhost:8080/",
          "height": 297
        }
      },
      "source": [
        "houses.corr(method='spearman')"
      ],
      "execution_count": 0,
      "outputs": [
        {
          "output_type": "execute_result",
          "data": {
            "text/html": [
              "<div>\n",
              "<style scoped>\n",
              "    .dataframe tbody tr th:only-of-type {\n",
              "        vertical-align: middle;\n",
              "    }\n",
              "\n",
              "    .dataframe tbody tr th {\n",
              "        vertical-align: top;\n",
              "    }\n",
              "\n",
              "    .dataframe thead th {\n",
              "        text-align: right;\n",
              "    }\n",
              "</style>\n",
              "<table border=\"1\" class=\"dataframe\">\n",
              "  <thead>\n",
              "    <tr style=\"text-align: right;\">\n",
              "      <th></th>\n",
              "      <th>price</th>\n",
              "      <th>latitude</th>\n",
              "      <th>longitude</th>\n",
              "      <th>bedrooms</th>\n",
              "      <th>area</th>\n",
              "      <th>pkspaces</th>\n",
              "      <th>bathrooms</th>\n",
              "      <th>ensuites</th>\n",
              "    </tr>\n",
              "  </thead>\n",
              "  <tbody>\n",
              "    <tr>\n",
              "      <th>price</th>\n",
              "      <td>1.000000</td>\n",
              "      <td>0.142366</td>\n",
              "      <td>0.003046</td>\n",
              "      <td>0.485487</td>\n",
              "      <td>0.492475</td>\n",
              "      <td>0.428939</td>\n",
              "      <td>0.559964</td>\n",
              "      <td>0.621447</td>\n",
              "    </tr>\n",
              "    <tr>\n",
              "      <th>latitude</th>\n",
              "      <td>0.142366</td>\n",
              "      <td>1.000000</td>\n",
              "      <td>-0.159716</td>\n",
              "      <td>-0.037816</td>\n",
              "      <td>0.009346</td>\n",
              "      <td>0.006300</td>\n",
              "      <td>0.131152</td>\n",
              "      <td>0.082037</td>\n",
              "    </tr>\n",
              "    <tr>\n",
              "      <th>longitude</th>\n",
              "      <td>0.003046</td>\n",
              "      <td>-0.159716</td>\n",
              "      <td>1.000000</td>\n",
              "      <td>0.000067</td>\n",
              "      <td>-0.042796</td>\n",
              "      <td>-0.082754</td>\n",
              "      <td>0.036063</td>\n",
              "      <td>-0.153205</td>\n",
              "    </tr>\n",
              "    <tr>\n",
              "      <th>bedrooms</th>\n",
              "      <td>0.485487</td>\n",
              "      <td>-0.037816</td>\n",
              "      <td>0.000067</td>\n",
              "      <td>1.000000</td>\n",
              "      <td>0.674139</td>\n",
              "      <td>0.676838</td>\n",
              "      <td>0.688388</td>\n",
              "      <td>0.563133</td>\n",
              "    </tr>\n",
              "    <tr>\n",
              "      <th>area</th>\n",
              "      <td>0.492475</td>\n",
              "      <td>0.009346</td>\n",
              "      <td>-0.042796</td>\n",
              "      <td>0.674139</td>\n",
              "      <td>1.000000</td>\n",
              "      <td>0.647847</td>\n",
              "      <td>0.569009</td>\n",
              "      <td>0.614660</td>\n",
              "    </tr>\n",
              "    <tr>\n",
              "      <th>pkspaces</th>\n",
              "      <td>0.428939</td>\n",
              "      <td>0.006300</td>\n",
              "      <td>-0.082754</td>\n",
              "      <td>0.676838</td>\n",
              "      <td>0.647847</td>\n",
              "      <td>1.000000</td>\n",
              "      <td>0.559461</td>\n",
              "      <td>0.558090</td>\n",
              "    </tr>\n",
              "    <tr>\n",
              "      <th>bathrooms</th>\n",
              "      <td>0.559964</td>\n",
              "      <td>0.131152</td>\n",
              "      <td>0.036063</td>\n",
              "      <td>0.688388</td>\n",
              "      <td>0.569009</td>\n",
              "      <td>0.559461</td>\n",
              "      <td>1.000000</td>\n",
              "      <td>0.682480</td>\n",
              "    </tr>\n",
              "    <tr>\n",
              "      <th>ensuites</th>\n",
              "      <td>0.621447</td>\n",
              "      <td>0.082037</td>\n",
              "      <td>-0.153205</td>\n",
              "      <td>0.563133</td>\n",
              "      <td>0.614660</td>\n",
              "      <td>0.558090</td>\n",
              "      <td>0.682480</td>\n",
              "      <td>1.000000</td>\n",
              "    </tr>\n",
              "  </tbody>\n",
              "</table>\n",
              "</div>"
            ],
            "text/plain": [
              "              price  latitude  longitude  bedrooms      area  pkspaces  \\\n",
              "price      1.000000  0.142366   0.003046  0.485487  0.492475  0.428939   \n",
              "latitude   0.142366  1.000000  -0.159716 -0.037816  0.009346  0.006300   \n",
              "longitude  0.003046 -0.159716   1.000000  0.000067 -0.042796 -0.082754   \n",
              "bedrooms   0.485487 -0.037816   0.000067  1.000000  0.674139  0.676838   \n",
              "area       0.492475  0.009346  -0.042796  0.674139  1.000000  0.647847   \n",
              "pkspaces   0.428939  0.006300  -0.082754  0.676838  0.647847  1.000000   \n",
              "bathrooms  0.559964  0.131152   0.036063  0.688388  0.569009  0.559461   \n",
              "ensuites   0.621447  0.082037  -0.153205  0.563133  0.614660  0.558090   \n",
              "\n",
              "           bathrooms  ensuites  \n",
              "price       0.559964  0.621447  \n",
              "latitude    0.131152  0.082037  \n",
              "longitude   0.036063 -0.153205  \n",
              "bedrooms    0.688388  0.563133  \n",
              "area        0.569009  0.614660  \n",
              "pkspaces    0.559461  0.558090  \n",
              "bathrooms   1.000000  0.682480  \n",
              "ensuites    0.682480  1.000000  "
            ]
          },
          "metadata": {
            "tags": []
          },
          "execution_count": 29
        }
      ]
    },
    {
      "cell_type": "code",
      "metadata": {
        "colab_type": "code",
        "id": "lUegD_tiE658",
        "outputId": "2a61bb70-3652-4930-82ec-636eeae097cb",
        "colab": {
          "base_uri": "https://localhost:8080/",
          "height": 266
        }
      },
      "source": [
        "houses2.corr(method='spearman')"
      ],
      "execution_count": 0,
      "outputs": [
        {
          "output_type": "execute_result",
          "data": {
            "text/html": [
              "<div>\n",
              "<style scoped>\n",
              "    .dataframe tbody tr th:only-of-type {\n",
              "        vertical-align: middle;\n",
              "    }\n",
              "\n",
              "    .dataframe tbody tr th {\n",
              "        vertical-align: top;\n",
              "    }\n",
              "\n",
              "    .dataframe thead th {\n",
              "        text-align: right;\n",
              "    }\n",
              "</style>\n",
              "<table border=\"1\" class=\"dataframe\">\n",
              "  <thead>\n",
              "    <tr style=\"text-align: right;\">\n",
              "      <th></th>\n",
              "      <th>price</th>\n",
              "      <th>latitude</th>\n",
              "      <th>longitude</th>\n",
              "      <th>bedrooms</th>\n",
              "      <th>area</th>\n",
              "      <th>pkspaces</th>\n",
              "      <th>bathrooms</th>\n",
              "    </tr>\n",
              "  </thead>\n",
              "  <tbody>\n",
              "    <tr>\n",
              "      <th>price</th>\n",
              "      <td>1.000000</td>\n",
              "      <td>0.142366</td>\n",
              "      <td>0.003046</td>\n",
              "      <td>0.485487</td>\n",
              "      <td>0.492475</td>\n",
              "      <td>0.428939</td>\n",
              "      <td>0.532729</td>\n",
              "    </tr>\n",
              "    <tr>\n",
              "      <th>latitude</th>\n",
              "      <td>0.142366</td>\n",
              "      <td>1.000000</td>\n",
              "      <td>-0.159716</td>\n",
              "      <td>-0.037816</td>\n",
              "      <td>0.009346</td>\n",
              "      <td>0.006300</td>\n",
              "      <td>0.131665</td>\n",
              "    </tr>\n",
              "    <tr>\n",
              "      <th>longitude</th>\n",
              "      <td>0.003046</td>\n",
              "      <td>-0.159716</td>\n",
              "      <td>1.000000</td>\n",
              "      <td>0.000067</td>\n",
              "      <td>-0.042796</td>\n",
              "      <td>-0.082754</td>\n",
              "      <td>0.014587</td>\n",
              "    </tr>\n",
              "    <tr>\n",
              "      <th>bedrooms</th>\n",
              "      <td>0.485487</td>\n",
              "      <td>-0.037816</td>\n",
              "      <td>0.000067</td>\n",
              "      <td>1.000000</td>\n",
              "      <td>0.674139</td>\n",
              "      <td>0.676838</td>\n",
              "      <td>0.609528</td>\n",
              "    </tr>\n",
              "    <tr>\n",
              "      <th>area</th>\n",
              "      <td>0.492475</td>\n",
              "      <td>0.009346</td>\n",
              "      <td>-0.042796</td>\n",
              "      <td>0.674139</td>\n",
              "      <td>1.000000</td>\n",
              "      <td>0.647847</td>\n",
              "      <td>0.532577</td>\n",
              "    </tr>\n",
              "    <tr>\n",
              "      <th>pkspaces</th>\n",
              "      <td>0.428939</td>\n",
              "      <td>0.006300</td>\n",
              "      <td>-0.082754</td>\n",
              "      <td>0.676838</td>\n",
              "      <td>0.647847</td>\n",
              "      <td>1.000000</td>\n",
              "      <td>0.533391</td>\n",
              "    </tr>\n",
              "    <tr>\n",
              "      <th>bathrooms</th>\n",
              "      <td>0.532729</td>\n",
              "      <td>0.131665</td>\n",
              "      <td>0.014587</td>\n",
              "      <td>0.609528</td>\n",
              "      <td>0.532577</td>\n",
              "      <td>0.533391</td>\n",
              "      <td>1.000000</td>\n",
              "    </tr>\n",
              "  </tbody>\n",
              "</table>\n",
              "</div>"
            ],
            "text/plain": [
              "              price  latitude  longitude  bedrooms      area  pkspaces  \\\n",
              "price      1.000000  0.142366   0.003046  0.485487  0.492475  0.428939   \n",
              "latitude   0.142366  1.000000  -0.159716 -0.037816  0.009346  0.006300   \n",
              "longitude  0.003046 -0.159716   1.000000  0.000067 -0.042796 -0.082754   \n",
              "bedrooms   0.485487 -0.037816   0.000067  1.000000  0.674139  0.676838   \n",
              "area       0.492475  0.009346  -0.042796  0.674139  1.000000  0.647847   \n",
              "pkspaces   0.428939  0.006300  -0.082754  0.676838  0.647847  1.000000   \n",
              "bathrooms  0.532729  0.131665   0.014587  0.609528  0.532577  0.533391   \n",
              "\n",
              "           bathrooms  \n",
              "price       0.532729  \n",
              "latitude    0.131665  \n",
              "longitude   0.014587  \n",
              "bedrooms    0.609528  \n",
              "area        0.532577  \n",
              "pkspaces    0.533391  \n",
              "bathrooms   1.000000  "
            ]
          },
          "metadata": {
            "tags": []
          },
          "execution_count": 30
        }
      ]
    },
    {
      "cell_type": "code",
      "metadata": {
        "colab_type": "code",
        "id": "A4hoEV-ZE9nR",
        "outputId": "1ef83e6b-fdb3-447b-a90e-1a0aceb12fb7",
        "colab": {
          "base_uri": "https://localhost:8080/",
          "height": 170
        }
      },
      "source": [
        "houses['bathrooms'].describe()"
      ],
      "execution_count": 0,
      "outputs": [
        {
          "output_type": "execute_result",
          "data": {
            "text/plain": [
              "count    1538.000000\n",
              "mean        2.676853\n",
              "std         1.281568\n",
              "min         0.000000\n",
              "25%         2.000000\n",
              "50%         3.000000\n",
              "75%         3.000000\n",
              "max         8.000000\n",
              "Name: bathrooms, dtype: float64"
            ]
          },
          "metadata": {
            "tags": []
          },
          "execution_count": 29
        }
      ]
    },
    {
      "cell_type": "code",
      "metadata": {
        "colab_type": "code",
        "id": "JzblYO_eH0eu",
        "outputId": "eb2b68a3-345d-495e-b442-5d0d19b32ee7",
        "colab": {
          "base_uri": "https://localhost:8080/",
          "height": 102
        }
      },
      "source": [
        "import random\n",
        "houses2 = houses.dropna(thresh=0.7*len(houses), axis=1)\n",
        "#adiciona valor aleatório no intervalo de min e max de banheiros nos dados ausentes de banheiros\n",
        "houses2['bathrooms'].fillna(random.randint(houses2['bathrooms'].min(),houses2['bathrooms'].max()), inplace=True)"
      ],
      "execution_count": 0,
      "outputs": [
        {
          "output_type": "stream",
          "text": [
            "/usr/local/lib/python3.6/dist-packages/pandas/core/generic.py:4355: SettingWithCopyWarning: \n",
            "A value is trying to be set on a copy of a slice from a DataFrame\n",
            "\n",
            "See the caveats in the documentation: http://pandas.pydata.org/pandas-docs/stable/indexing.html#indexing-view-versus-copy\n",
            "  self._update_inplace(new_data)\n"
          ],
          "name": "stderr"
        }
      ]
    },
    {
      "cell_type": "code",
      "metadata": {
        "colab_type": "code",
        "id": "XFKdzJXSHfRc",
        "outputId": "1645e4b8-9069-4da0-ea75-38b92f5cdf3c",
        "colab": {
          "base_uri": "https://localhost:8080/",
          "height": 51
        }
      },
      "source": [
        "print(houses2['bathrooms'].mean())\n",
        "print(houses2['bathrooms'].median())\n"
      ],
      "execution_count": 0,
      "outputs": [
        {
          "output_type": "stream",
          "text": [
            "2.478784403669725\n",
            "2.0\n"
          ],
          "name": "stdout"
        }
      ]
    },
    {
      "cell_type": "markdown",
      "metadata": {
        "colab_type": "text",
        "id": "Q2EY_VYu7xUx"
      },
      "source": [
        "## Normalização"
      ]
    },
    {
      "cell_type": "code",
      "metadata": {
        "colab_type": "code",
        "id": "eZrhsZhzYfiE",
        "outputId": "1c0b711f-a126-4306-827f-e39d37c2463a",
        "colab": {
          "base_uri": "https://localhost:8080/",
          "height": 34
        }
      },
      "source": [
        "dist = np.linalg.norm(houses3.values[1]-houses3.values[2])\n",
        "print(dist)"
      ],
      "execution_count": 0,
      "outputs": [
        {
          "output_type": "stream",
          "text": [
            "75000.0073800006\n"
          ],
          "name": "stdout"
        }
      ]
    },
    {
      "cell_type": "code",
      "metadata": {
        "colab_type": "code",
        "id": "QKM5jvG2ZDte",
        "outputId": "3c2e73a6-a595-431c-f441-bdfedd232c24",
        "colab": {
          "base_uri": "https://localhost:8080/",
          "height": 238
        }
      },
      "source": [
        "houses_norm = (houses3 - houses3.min()) / (houses3.max() - houses3.min())\n",
        "print(houses_norm.head())"
      ],
      "execution_count": 0,
      "outputs": [
        {
          "output_type": "stream",
          "text": [
            "      price  latitude  longitude  bedrooms      area  pkspaces  bathrooms  \\\n",
            "0  0.000200  0.524367   0.842831  0.214286  0.007242  0.200000      0.375   \n",
            "1  0.044000  0.683119   0.731592  0.142857  0.036814  0.066667      0.375   \n",
            "2  0.034000  0.642893   0.828691  0.071429  0.034400  0.066667      0.250   \n",
            "3  0.050667  0.588660   0.973751  0.142857  0.042245  0.133333      0.375   \n",
            "4  0.040000  0.557020   0.645092  0.142857  0.043452  0.066667      0.375   \n",
            "\n",
            "       ensuites    suburb  district  city  state  type  \n",
            "0  9.870805e-09  0.087719       NaN   NaN    NaN   0.0  \n",
            "1  1.865787e-08  0.877193       NaN   NaN    NaN   0.0  \n",
            "2  8.807191e-09  0.298246       NaN   NaN    NaN   0.0  \n",
            "3  1.865787e-08  0.807018       NaN   NaN    NaN   0.0  \n",
            "4  1.865787e-08  0.543860       NaN   NaN    NaN   0.0  \n"
          ],
          "name": "stdout"
        }
      ]
    },
    {
      "cell_type": "code",
      "metadata": {
        "colab_type": "code",
        "id": "uhDGqSQvDroX",
        "outputId": "b3ea0c8a-01e0-4b34-fdd9-31b3f0a98d15",
        "colab": {
          "base_uri": "https://localhost:8080/",
          "height": 238
        }
      },
      "source": [
        "houses_norm = houses_norm.dropna(thresh=0.7*len(houses), axis=1)\n",
        "print(houses_norm.head())"
      ],
      "execution_count": 0,
      "outputs": [
        {
          "output_type": "stream",
          "text": [
            "      price  latitude  longitude  bedrooms      area  pkspaces  bathrooms  \\\n",
            "0  0.000200  0.524367   0.842831  0.214286  0.007242  0.200000      0.375   \n",
            "1  0.044000  0.683119   0.731592  0.142857  0.036814  0.066667      0.375   \n",
            "2  0.034000  0.642893   0.828691  0.071429  0.034400  0.066667      0.250   \n",
            "3  0.050667  0.588660   0.973751  0.142857  0.042245  0.133333      0.375   \n",
            "4  0.040000  0.557020   0.645092  0.142857  0.043452  0.066667      0.375   \n",
            "\n",
            "       ensuites    suburb  type  \n",
            "0  9.870805e-09  0.087719   0.0  \n",
            "1  1.865787e-08  0.877193   0.0  \n",
            "2  8.807191e-09  0.298246   0.0  \n",
            "3  1.865787e-08  0.807018   0.0  \n",
            "4  1.865787e-08  0.543860   0.0  \n"
          ],
          "name": "stdout"
        }
      ]
    },
    {
      "cell_type": "code",
      "metadata": {
        "colab_type": "code",
        "id": "0cW6hQ5HaC1I",
        "outputId": "cf848ad3-665f-4bbf-b40d-6db797ff9320",
        "colab": {
          "base_uri": "https://localhost:8080/",
          "height": 34
        }
      },
      "source": [
        "dist = np.linalg.norm(houses_norm.values[1]-houses_norm.values[2])\n",
        "print(dist)"
      ],
      "execution_count": 0,
      "outputs": [
        {
          "output_type": "stream",
          "text": [
            "0.6058541651037146\n"
          ],
          "name": "stdout"
        }
      ]
    },
    {
      "cell_type": "code",
      "metadata": {
        "colab_type": "code",
        "id": "pEGQ0Uvsb2Xm",
        "colab": {}
      },
      "source": [
        "houses['price_norm'] = (houses['price'] - houses['price'].min()) / (houses['price'].max() - houses['price'].min())"
      ],
      "execution_count": 0,
      "outputs": []
    },
    {
      "cell_type": "code",
      "metadata": {
        "colab_type": "code",
        "id": "QspbKDpedfKQ",
        "outputId": "f0b627d0-fa32-456c-cc55-ee23485a3d5d",
        "colab": {
          "base_uri": "https://localhost:8080/",
          "height": 170
        }
      },
      "source": [
        "houses['price_norm'].describe()"
      ],
      "execution_count": 0,
      "outputs": [
        {
          "output_type": "execute_result",
          "data": {
            "text/plain": [
              "count    1744.000000\n",
              "mean        0.062007\n",
              "std         0.079028\n",
              "min         0.000000\n",
              "25%         0.000307\n",
              "50%         0.046667\n",
              "75%         0.084000\n",
              "max         1.000000\n",
              "Name: price_norm, dtype: float64"
            ]
          },
          "metadata": {
            "tags": []
          },
          "execution_count": 96
        }
      ]
    },
    {
      "cell_type": "code",
      "metadata": {
        "colab_type": "code",
        "id": "AnP8NESbddYU",
        "colab": {}
      },
      "source": [
        "houses['price_norm'] = ((houses['price'] - houses['price'].min()) / (houses['price'].max() - houses['price'].min())*2) -1"
      ],
      "execution_count": 0,
      "outputs": []
    },
    {
      "cell_type": "code",
      "metadata": {
        "colab_type": "code",
        "id": "DzLS_LuicHFu",
        "outputId": "24bf3ef4-2119-49b4-ce23-92feaad06f3a",
        "colab": {
          "base_uri": "https://localhost:8080/",
          "height": 170
        }
      },
      "source": [
        "houses['price_norm'].describe()"
      ],
      "execution_count": 0,
      "outputs": [
        {
          "output_type": "execute_result",
          "data": {
            "text/plain": [
              "count    1744.000000\n",
              "mean       -0.875986\n",
              "std         0.158056\n",
              "min        -1.000000\n",
              "25%        -0.999387\n",
              "50%        -0.906667\n",
              "75%        -0.832000\n",
              "max         1.000000\n",
              "Name: price_norm, dtype: float64"
            ]
          },
          "metadata": {
            "tags": []
          },
          "execution_count": 98
        }
      ]
    },
    {
      "cell_type": "code",
      "metadata": {
        "colab_type": "code",
        "id": "IwDDuYPgiGS_",
        "outputId": "6f441706-5413-465a-db29-7510aba026c2",
        "colab": {
          "base_uri": "https://localhost:8080/",
          "height": 224
        }
      },
      "source": [
        "from sklearn.preprocessing import StandardScaler, MinMaxScaler\n",
        "scaler = MinMaxScaler()\n",
        "houses['price_norm'] = scaler.fit_transform(houses[['price']])\n",
        "houses['price_norm'].describe()"
      ],
      "execution_count": 0,
      "outputs": [
        {
          "output_type": "stream",
          "text": [
            "/usr/local/lib/python3.6/dist-packages/sklearn/preprocessing/data.py:334: DataConversionWarning: Data with input dtype int64 were all converted to float64 by MinMaxScaler.\n",
            "  return self.partial_fit(X, y)\n"
          ],
          "name": "stderr"
        },
        {
          "output_type": "execute_result",
          "data": {
            "text/plain": [
              "count    1744.000000\n",
              "mean        0.062007\n",
              "std         0.079028\n",
              "min         0.000000\n",
              "25%         0.000307\n",
              "50%         0.046667\n",
              "75%         0.084000\n",
              "max         1.000000\n",
              "Name: price_norm, dtype: float64"
            ]
          },
          "metadata": {
            "tags": []
          },
          "execution_count": 99
        }
      ]
    },
    {
      "cell_type": "code",
      "metadata": {
        "colab_type": "code",
        "id": "zAyXdtaagZx-",
        "colab": {}
      },
      "source": [
        "houses['price_norm'] = (houses['price'] - houses['price'].mean()) / (houses['price'].std())"
      ],
      "execution_count": 0,
      "outputs": []
    },
    {
      "cell_type": "code",
      "metadata": {
        "colab_type": "code",
        "id": "wQu71EfMgzub",
        "outputId": "b5257698-79f0-4662-d9d1-945b8b1ab323",
        "colab": {
          "base_uri": "https://localhost:8080/",
          "height": 170
        }
      },
      "source": [
        "houses['price_norm'].describe()"
      ],
      "execution_count": 0,
      "outputs": [
        {
          "output_type": "execute_result",
          "data": {
            "text/plain": [
              "count    1.744000e+03\n",
              "mean     3.141282e-16\n",
              "std      1.000287e+00\n",
              "min     -7.848417e-01\n",
              "25%     -7.809601e-01\n",
              "50%     -1.941652e-01\n",
              "75%      2.783760e-01\n",
              "max      1.187251e+01\n",
              "Name: price_norm, dtype: float64"
            ]
          },
          "metadata": {
            "tags": []
          },
          "execution_count": 104
        }
      ]
    },
    {
      "cell_type": "code",
      "metadata": {
        "colab_type": "code",
        "id": "QzorZUIAjC-9",
        "outputId": "73f392eb-e301-4846-ded1-9d503c491b54",
        "colab": {
          "base_uri": "https://localhost:8080/",
          "height": 258
        }
      },
      "source": [
        "scaler = StandardScaler()\n",
        "houses['price_norm'] = scaler.fit_transform(houses[['price']])\n",
        "houses['price_norm'].describe()"
      ],
      "execution_count": 0,
      "outputs": [
        {
          "output_type": "stream",
          "text": [
            "/usr/local/lib/python3.6/dist-packages/sklearn/preprocessing/data.py:645: DataConversionWarning: Data with input dtype int64 were all converted to float64 by StandardScaler.\n",
            "  return self.partial_fit(X, y)\n",
            "/usr/local/lib/python3.6/dist-packages/sklearn/base.py:464: DataConversionWarning: Data with input dtype int64 were all converted to float64 by StandardScaler.\n",
            "  return self.fit(X, **fit_params).transform(X)\n"
          ],
          "name": "stderr"
        },
        {
          "output_type": "execute_result",
          "data": {
            "text/plain": [
              "count    1.744000e+03\n",
              "mean     3.141282e-16\n",
              "std      1.000287e+00\n",
              "min     -7.848417e-01\n",
              "25%     -7.809601e-01\n",
              "50%     -1.941652e-01\n",
              "75%      2.783760e-01\n",
              "max      1.187251e+01\n",
              "Name: price_norm, dtype: float64"
            ]
          },
          "metadata": {
            "tags": []
          },
          "execution_count": 103
        }
      ]
    },
    {
      "cell_type": "markdown",
      "metadata": {
        "colab_type": "text",
        "id": "DNyrJJ8k4EFK"
      },
      "source": [
        "## Discretizando área\n",
        "\n",
        "\n",
        "\n",
        "\n",
        "\n"
      ]
    },
    {
      "cell_type": "code",
      "metadata": {
        "colab_type": "code",
        "id": "hrn-TVyDjNzy",
        "colab": {}
      },
      "source": [
        "#10 intervalos iguais\n",
        "houses['area_dist'] = pd.cut(houses['area'],10)"
      ],
      "execution_count": 0,
      "outputs": []
    },
    {
      "cell_type": "code",
      "metadata": {
        "colab_type": "code",
        "id": "jGRO-8v00aFC",
        "outputId": "01d38489-180d-48da-a667-d343ba3b4147",
        "colab": {
          "base_uri": "https://localhost:8080/",
          "height": 204
        }
      },
      "source": [
        "houses['area_dist'].value_counts()"
      ],
      "execution_count": 0,
      "outputs": [
        {
          "output_type": "execute_result",
          "data": {
            "text/plain": [
              "(23.343, 190.7]     1488\n",
              "(190.7, 356.4]       193\n",
              "(356.4, 522.1]        25\n",
              "(522.1, 687.8]         9\n",
              "(687.8, 853.5]         4\n",
              "(1516.3, 1682.0]       1\n",
              "(853.5, 1019.2]        1\n",
              "(1350.6, 1516.3]       0\n",
              "(1184.9, 1350.6]       0\n",
              "(1019.2, 1184.9]       0\n",
              "Name: area_dist, dtype: int64"
            ]
          },
          "metadata": {
            "tags": []
          },
          "execution_count": 24
        }
      ]
    },
    {
      "cell_type": "code",
      "metadata": {
        "id": "k0pSngnbgNZw",
        "colab_type": "code",
        "outputId": "87104419-560d-4ca3-beec-88dfa765ca5f",
        "colab": {}
      },
      "source": [
        "counts = houses['area_dist'].value_counts()\n",
        "counts.plot.bar(rot=0)"
      ],
      "execution_count": 0,
      "outputs": [
        {
          "output_type": "execute_result",
          "data": {
            "text/plain": [
              "<matplotlib.axes._subplots.AxesSubplot at 0x1237b0e48>"
            ]
          },
          "metadata": {
            "tags": []
          },
          "execution_count": 22
        },
        {
          "output_type": "display_data",
          "data": {
            "image/png": "[encoded data removed]",
            "text/plain": [
              "<Figure size 432x288 with 1 Axes>"
            ]
          },
          "metadata": {
            "tags": [],
            "needs_background": "light"
          }
        }
      ]
    },
    {
      "cell_type": "code",
      "metadata": {
        "colab_type": "code",
        "id": "srTL62oY2y7B",
        "outputId": "54cc21a5-fa3c-4db6-a44a-c61ff5824109",
        "colab": {
          "base_uri": "https://localhost:8080/",
          "height": 170
        }
      },
      "source": [
        "houses['area'].describe()"
      ],
      "execution_count": 0,
      "outputs": [
        {
          "output_type": "execute_result",
          "data": {
            "text/plain": [
              "count    1721.000000\n",
              "mean      120.782493\n",
              "std        95.680958\n",
              "min        25.000000\n",
              "25%        70.000000\n",
              "50%        94.000000\n",
              "75%       139.000000\n",
              "max      1682.000000\n",
              "Name: area, dtype: float64"
            ]
          },
          "metadata": {
            "tags": []
          },
          "execution_count": 107
        }
      ]
    },
    {
      "cell_type": "code",
      "metadata": {
        "colab_type": "code",
        "id": "vugkVpgE3ICQ",
        "colab": {}
      },
      "source": [
        "#Discretizando com números de elementos iguais\n",
        "houses['area_dist'] = pd.qcut(houses['area'],4)"
      ],
      "execution_count": 0,
      "outputs": []
    },
    {
      "cell_type": "code",
      "metadata": {
        "colab_type": "code",
        "id": "1UExG2Qc3RXg",
        "outputId": "64fa45a5-ed9d-45f5-a6ec-eb620f306241",
        "colab": {
          "base_uri": "https://localhost:8080/",
          "height": 102
        }
      },
      "source": [
        "houses['area_dist'].value_counts()"
      ],
      "execution_count": 0,
      "outputs": [
        {
          "output_type": "execute_result",
          "data": {
            "text/plain": [
              "(24.999, 70.0]     466\n",
              "(139.0, 1682.0]    429\n",
              "(94.0, 139.0]      425\n",
              "(70.0, 94.0]       401\n",
              "Name: area_dist, dtype: int64"
            ]
          },
          "metadata": {
            "tags": []
          },
          "execution_count": 13
        }
      ]
    },
    {
      "cell_type": "code",
      "metadata": {
        "id": "LqrLuFItgNab",
        "colab_type": "code",
        "outputId": "a98a27c3-d834-46ee-fd9f-85ccc3d52573",
        "colab": {}
      },
      "source": [
        "counts = houses['area_dist'].value_counts()\n",
        "counts.plot.bar(rot=0)"
      ],
      "execution_count": 0,
      "outputs": [
        {
          "output_type": "execute_result",
          "data": {
            "text/plain": [
              "<matplotlib.axes._subplots.AxesSubplot at 0x1236905c0>"
            ]
          },
          "metadata": {
            "tags": []
          },
          "execution_count": 17
        },
        {
          "output_type": "display_data",
          "data": {
            "image/png": "[encoded data removed]",
            "text/plain": [
              "<Figure size 432x288 with 1 Axes>"
            ]
          },
          "metadata": {
            "tags": [],
            "needs_background": "light"
          }
        }
      ]
    },
    {
      "cell_type": "code",
      "metadata": {
        "id": "z56-jB3agNae",
        "colab_type": "code",
        "colab": {}
      },
      "source": [
        "counts = dataset['area_disc'].value_counts()\n",
        "counts.plot.bar(rot=0)"
      ],
      "execution_count": 0,
      "outputs": []
    },
    {
      "cell_type": "code",
      "metadata": {
        "colab_type": "code",
        "id": "hRVISJ2o3p7R",
        "colab": {}
      },
      "source": [
        "## Exercícios Sugeridos\n",
        "* Leia o arquivo CSV do seguinte link: https://raw.githubusercontent.com/ProfLuciano/intro_cd/gh-pages/data/countries-of-the-world.csv (fonte do dataset: Kaggle)\n",
        "* Verifique os nomes as colunas;\n",
        "* Analise os primeiros registros do dataset e verifique se os tipos das colunas condizem com os valores contidos no dataframe;\n",
        "* Faça o juste dos tipos das colunas;\n",
        "* Faça a imputação de dados nas variáveis (qualquer método à sua escolha)\n",
        "* Normalize as varáveis contínuas (à escolha)\n",
        "* Escolha algumas variáveis e discretize os dados em relação a elas\n",
        "* Plote gráficos dos dados discretizados e gráficos para visualização da distribuição de outras variáveis que achar interessante."
      ],
      "execution_count": 0,
      "outputs": []
    },
    {
      "cell_type": "markdown",
      "metadata": {
        "id": "c_2DtztYgNal",
        "colab_type": "text"
      },
      "source": [
        "## Resolução dos exercícios sugeridos\n"
      ]
    },
    {
      "cell_type": "code",
      "metadata": {
        "id": "Mvt1V3nUgNam",
        "colab_type": "code",
        "colab": {}
      },
      "source": [
        "import pandas as pd\n",
        "dataset = pd.read_csv(\"http://cin.ufpe.br/~jms5/countries-of-the-world/countries-of-the-world.csv\")"
      ],
      "execution_count": 0,
      "outputs": []
    },
    {
      "cell_type": "code",
      "metadata": {
        "id": "SplULZoXgNaq",
        "colab_type": "code",
        "outputId": "06a48119-6cc8-4b05-fb8e-5bf0ef7e88e8",
        "colab": {}
      },
      "source": [
        "dataset.columns"
      ],
      "execution_count": 0,
      "outputs": [
        {
          "output_type": "execute_result",
          "data": {
            "text/plain": [
              "Index(['Country', 'Region', 'Population', 'Area (sq. mi.)',\n",
              "       'Pop. Density (per sq. mi.)', 'Coastline (coast/area ratio)',\n",
              "       'Net migration', 'Infant mortality (per 1000 births)',\n",
              "       'GDP ($ per capita)', 'Literacy (%)', 'Phones (per 1000)', 'Arable (%)',\n",
              "       'Crops (%)', 'Other (%)', 'Climate', 'Birthrate', 'Deathrate',\n",
              "       'Agriculture', 'Industry', 'Service'],\n",
              "      dtype='object')"
            ]
          },
          "metadata": {
            "tags": []
          },
          "execution_count": 6
        }
      ]
    },
    {
      "cell_type": "code",
      "metadata": {
        "id": "x4GH5O10gNaw",
        "colab_type": "code",
        "outputId": "f7cd1615-8f5f-4aad-ba47-eb019ec1f2be",
        "colab": {}
      },
      "source": [
        "dataset.head()"
      ],
      "execution_count": 0,
      "outputs": [
        {
          "output_type": "execute_result",
          "data": {
            "text/html": [
              "<div>\n",
              "<style scoped>\n",
              "    .dataframe tbody tr th:only-of-type {\n",
              "        vertical-align: middle;\n",
              "    }\n",
              "\n",
              "    .dataframe tbody tr th {\n",
              "        vertical-align: top;\n",
              "    }\n",
              "\n",
              "    .dataframe thead th {\n",
              "        text-align: right;\n",
              "    }\n",
              "</style>\n",
              "<table border=\"1\" class=\"dataframe\">\n",
              "  <thead>\n",
              "    <tr style=\"text-align: right;\">\n",
              "      <th></th>\n",
              "      <th>Country</th>\n",
              "      <th>Region</th>\n",
              "      <th>Population</th>\n",
              "      <th>Area (sq. mi.)</th>\n",
              "      <th>Pop. Density (per sq. mi.)</th>\n",
              "      <th>Coastline (coast/area ratio)</th>\n",
              "      <th>Net migration</th>\n",
              "      <th>Infant mortality (per 1000 births)</th>\n",
              "      <th>GDP ($ per capita)</th>\n",
              "      <th>Literacy (%)</th>\n",
              "      <th>Phones (per 1000)</th>\n",
              "      <th>Arable (%)</th>\n",
              "      <th>Crops (%)</th>\n",
              "      <th>Other (%)</th>\n",
              "      <th>Climate</th>\n",
              "      <th>Birthrate</th>\n",
              "      <th>Deathrate</th>\n",
              "      <th>Agriculture</th>\n",
              "      <th>Industry</th>\n",
              "      <th>Service</th>\n",
              "    </tr>\n",
              "  </thead>\n",
              "  <tbody>\n",
              "    <tr>\n",
              "      <th>0</th>\n",
              "      <td>Afghanistan</td>\n",
              "      <td>ASIA (EX. NEAR EAST)</td>\n",
              "      <td>31056997</td>\n",
              "      <td>647500</td>\n",
              "      <td>48,0</td>\n",
              "      <td>0,00</td>\n",
              "      <td>23,06</td>\n",
              "      <td>163,07</td>\n",
              "      <td>700.0</td>\n",
              "      <td>36,0</td>\n",
              "      <td>3,2</td>\n",
              "      <td>12,13</td>\n",
              "      <td>0,22</td>\n",
              "      <td>87,65</td>\n",
              "      <td>1</td>\n",
              "      <td>46,6</td>\n",
              "      <td>20,34</td>\n",
              "      <td>0,38</td>\n",
              "      <td>0,24</td>\n",
              "      <td>0,38</td>\n",
              "    </tr>\n",
              "    <tr>\n",
              "      <th>1</th>\n",
              "      <td>Albania</td>\n",
              "      <td>EASTERN EUROPE</td>\n",
              "      <td>3581655</td>\n",
              "      <td>28748</td>\n",
              "      <td>124,6</td>\n",
              "      <td>1,26</td>\n",
              "      <td>-4,93</td>\n",
              "      <td>21,52</td>\n",
              "      <td>4500.0</td>\n",
              "      <td>86,5</td>\n",
              "      <td>71,2</td>\n",
              "      <td>21,09</td>\n",
              "      <td>4,42</td>\n",
              "      <td>74,49</td>\n",
              "      <td>3</td>\n",
              "      <td>15,11</td>\n",
              "      <td>5,22</td>\n",
              "      <td>0,232</td>\n",
              "      <td>0,188</td>\n",
              "      <td>0,579</td>\n",
              "    </tr>\n",
              "    <tr>\n",
              "      <th>2</th>\n",
              "      <td>Algeria</td>\n",
              "      <td>NORTHERN AFRICA</td>\n",
              "      <td>32930091</td>\n",
              "      <td>2381740</td>\n",
              "      <td>13,8</td>\n",
              "      <td>0,04</td>\n",
              "      <td>-0,39</td>\n",
              "      <td>31</td>\n",
              "      <td>6000.0</td>\n",
              "      <td>70,0</td>\n",
              "      <td>78,1</td>\n",
              "      <td>3,22</td>\n",
              "      <td>0,25</td>\n",
              "      <td>96,53</td>\n",
              "      <td>1</td>\n",
              "      <td>17,14</td>\n",
              "      <td>4,61</td>\n",
              "      <td>0,101</td>\n",
              "      <td>0,6</td>\n",
              "      <td>0,298</td>\n",
              "    </tr>\n",
              "    <tr>\n",
              "      <th>3</th>\n",
              "      <td>American Samoa</td>\n",
              "      <td>OCEANIA</td>\n",
              "      <td>57794</td>\n",
              "      <td>199</td>\n",
              "      <td>290,4</td>\n",
              "      <td>58,29</td>\n",
              "      <td>-20,71</td>\n",
              "      <td>9,27</td>\n",
              "      <td>8000.0</td>\n",
              "      <td>97,0</td>\n",
              "      <td>259,5</td>\n",
              "      <td>10</td>\n",
              "      <td>15</td>\n",
              "      <td>75</td>\n",
              "      <td>2</td>\n",
              "      <td>22,46</td>\n",
              "      <td>3,27</td>\n",
              "      <td>NaN</td>\n",
              "      <td>NaN</td>\n",
              "      <td>NaN</td>\n",
              "    </tr>\n",
              "    <tr>\n",
              "      <th>4</th>\n",
              "      <td>Andorra</td>\n",
              "      <td>WESTERN EUROPE</td>\n",
              "      <td>71201</td>\n",
              "      <td>468</td>\n",
              "      <td>152,1</td>\n",
              "      <td>0,00</td>\n",
              "      <td>6,6</td>\n",
              "      <td>4,05</td>\n",
              "      <td>19000.0</td>\n",
              "      <td>100,0</td>\n",
              "      <td>497,2</td>\n",
              "      <td>2,22</td>\n",
              "      <td>0</td>\n",
              "      <td>97,78</td>\n",
              "      <td>3</td>\n",
              "      <td>8,71</td>\n",
              "      <td>6,25</td>\n",
              "      <td>NaN</td>\n",
              "      <td>NaN</td>\n",
              "      <td>NaN</td>\n",
              "    </tr>\n",
              "  </tbody>\n",
              "</table>\n",
              "</div>"
            ],
            "text/plain": [
              "           Country                               Region  Population  \\\n",
              "0     Afghanistan         ASIA (EX. NEAR EAST)             31056997   \n",
              "1         Albania   EASTERN EUROPE                          3581655   \n",
              "2         Algeria   NORTHERN AFRICA                        32930091   \n",
              "3  American Samoa   OCEANIA                                   57794   \n",
              "4         Andorra   WESTERN EUROPE                            71201   \n",
              "\n",
              "   Area (sq. mi.) Pop. Density (per sq. mi.) Coastline (coast/area ratio)  \\\n",
              "0          647500                       48,0                         0,00   \n",
              "1           28748                      124,6                         1,26   \n",
              "2         2381740                       13,8                         0,04   \n",
              "3             199                      290,4                        58,29   \n",
              "4             468                      152,1                         0,00   \n",
              "\n",
              "  Net migration Infant mortality (per 1000 births)  GDP ($ per capita)  \\\n",
              "0         23,06                             163,07               700.0   \n",
              "1         -4,93                              21,52              4500.0   \n",
              "2         -0,39                                 31              6000.0   \n",
              "3        -20,71                               9,27              8000.0   \n",
              "4           6,6                               4,05             19000.0   \n",
              "\n",
              "  Literacy (%) Phones (per 1000) Arable (%) Crops (%) Other (%) Climate  \\\n",
              "0         36,0               3,2      12,13      0,22     87,65       1   \n",
              "1         86,5              71,2      21,09      4,42     74,49       3   \n",
              "2         70,0              78,1       3,22      0,25     96,53       1   \n",
              "3         97,0             259,5         10        15        75       2   \n",
              "4        100,0             497,2       2,22         0     97,78       3   \n",
              "\n",
              "  Birthrate Deathrate Agriculture Industry Service  \n",
              "0      46,6     20,34        0,38     0,24    0,38  \n",
              "1     15,11      5,22       0,232    0,188   0,579  \n",
              "2     17,14      4,61       0,101      0,6   0,298  \n",
              "3     22,46      3,27         NaN      NaN     NaN  \n",
              "4      8,71      6,25         NaN      NaN     NaN  "
            ]
          },
          "metadata": {
            "tags": []
          },
          "execution_count": 7
        }
      ]
    },
    {
      "cell_type": "code",
      "metadata": {
        "id": "XS9u3X7UgNa0",
        "colab_type": "code",
        "outputId": "e74fac2b-fb68-4d79-d79e-8a52808cf820",
        "colab": {}
      },
      "source": [
        "dataset.dtypes"
      ],
      "execution_count": 0,
      "outputs": [
        {
          "output_type": "execute_result",
          "data": {
            "text/plain": [
              "Country                                object\n",
              "Region                                 object\n",
              "Population                              int64\n",
              "Area (sq. mi.)                          int64\n",
              "Pop. Density (per sq. mi.)             object\n",
              "Coastline (coast/area ratio)           object\n",
              "Net migration                          object\n",
              "Infant mortality (per 1000 births)     object\n",
              "GDP ($ per capita)                    float64\n",
              "Literacy (%)                           object\n",
              "Phones (per 1000)                      object\n",
              "Arable (%)                             object\n",
              "Crops (%)                              object\n",
              "Other (%)                              object\n",
              "Climate                                object\n",
              "Birthrate                              object\n",
              "Deathrate                              object\n",
              "Agriculture                            object\n",
              "Industry                               object\n",
              "Service                                object\n",
              "dtype: object"
            ]
          },
          "metadata": {
            "tags": []
          },
          "execution_count": 5
        }
      ]
    },
    {
      "cell_type": "code",
      "metadata": {
        "id": "5PRQtM4CgNa3",
        "colab_type": "code",
        "colab": {}
      },
      "source": [
        ""
      ],
      "execution_count": 0,
      "outputs": []
    }
  ]
}